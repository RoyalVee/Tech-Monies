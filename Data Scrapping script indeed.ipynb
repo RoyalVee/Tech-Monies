{
 "cells": [
  {
   "cell_type": "markdown",
   "metadata": {},
   "source": [
    "# Data Scrapping script for data collection from Indeed"
   ]
  },
  {
   "cell_type": "markdown",
   "metadata": {},
   "source": [
    "Introduction:\n",
    "This script aims at scrapping data from indeed. Data collected will be used in for training the Tech job salary prediction model."
   ]
  },
  {
   "cell_type": "markdown",
   "metadata": {},
   "source": [
    ">>Hint:\n",
    "    To run this script ensure your already have Selenium and Chrome driver installed. installation guide can be found [here](https://selenium-python.readthedocs.io/installation.html)"
   ]
  },
  {
   "cell_type": "code",
   "execution_count": 280,
   "metadata": {},
   "outputs": [
    {
     "name": "stderr",
     "output_type": "stream",
     "text": [
      "C:\\ProgramData\\Anaconda3\\lib\\site-packages\\ipykernel_launcher.py:13: DeprecationWarning: executable_path has been deprecated, please pass in a Service object\n",
      "  del sys.path[0]\n"
     ]
    }
   ],
   "source": [
    "#Import the packages \n",
    "from selenium.webdriver.common.by import By\n",
    "from selenium import webdriver\n",
    "from selenium.webdriver.common.keys import Keys\n",
    "from selenium.webdriver.support.ui import WebDriverWait\n",
    "from selenium.webdriver.support import expected_conditions as EC\n",
    "from bs4 import BeautifulSoup as bs\n",
    "import pandas as pd\n",
    "\n",
    "\n",
    "#specify driver path\n",
    "DRIVER_PATH = 'C:\\Program Files\\Google\\Chrome\\Application\\chromedriver.exe' # ensure to change this to your chrome driver location \n",
    "driver = webdriver.Chrome(executable_path = DRIVER_PATH)"
   ]
  },
  {
   "cell_type": "code",
   "execution_count": 281,
   "metadata": {},
   "outputs": [],
   "source": [
    "# open page\n",
    "driver.get('https://indeed.com')"
   ]
  },
  {
   "cell_type": "code",
   "execution_count": 282,
   "metadata": {},
   "outputs": [],
   "source": [
    "#Find the what element \n",
    "what_search_box = driver.find_element(By.XPATH, '//*[@id=\"text-input-what\"]')\n",
    "#search_button = driver.find_element(by=By.ID, value=\"search_button_homepage\")"
   ]
  },
  {
   "cell_type": "code",
   "execution_count": 283,
   "metadata": {},
   "outputs": [],
   "source": [
    "# pass job title in the what search\n",
    "what_search_box.send_keys(\"Data Analyst\")"
   ]
  },
  {
   "cell_type": "code",
   "execution_count": 284,
   "metadata": {},
   "outputs": [],
   "source": [
    "#Find the where element \n",
    "where_search_box = driver.find_element(By.XPATH, '//*[@id=\"text-input-where\"]')"
   ]
  },
  {
   "cell_type": "code",
   "execution_count": 285,
   "metadata": {},
   "outputs": [],
   "source": [
    "# pass location\n",
    "where_search_box.send_keys(\"Nigeria\")"
   ]
  },
  {
   "cell_type": "code",
   "execution_count": 286,
   "metadata": {},
   "outputs": [],
   "source": [
    "#Click on the search\n",
    "search_button = driver.find_element(By.XPATH, '//*[@id=\"jobsearch\"]/button')"
   ]
  },
  {
   "cell_type": "code",
   "execution_count": 287,
   "metadata": {},
   "outputs": [],
   "source": [
    "search_button.click()"
   ]
  },
  {
   "cell_type": "code",
   "execution_count": 304,
   "metadata": {},
   "outputs": [],
   "source": [
    "# get the listed job search returned \n",
    "job_cards = driver.find_elements(By.CLASS_NAME, 'resultContent')"
   ]
  },
  {
   "cell_type": "code",
   "execution_count": 305,
   "metadata": {},
   "outputs": [],
   "source": [
    "# get the number of jobs returned \n",
    "number_returned = len(job_cards)"
   ]
  },
  {
   "cell_type": "code",
   "execution_count": 306,
   "metadata": {},
   "outputs": [
    {
     "ename": "IndexError",
     "evalue": "list index out of range",
     "output_type": "error",
     "traceback": [
      "\u001b[1;31m---------------------------------------------------------------------------\u001b[0m",
      "\u001b[1;31mIndexError\u001b[0m                                Traceback (most recent call last)",
      "\u001b[1;32m<ipython-input-306-2337d8f80f6a>\u001b[0m in \u001b[0;36m<module>\u001b[1;34m\u001b[0m\n\u001b[0;32m     37\u001b[0m     \u001b[1;31m#get company name\u001b[0m\u001b[1;33m\u001b[0m\u001b[1;33m\u001b[0m\u001b[1;33m\u001b[0m\u001b[0m\n\u001b[0;32m     38\u001b[0m     \u001b[0mcompany\u001b[0m \u001b[1;33m=\u001b[0m \u001b[0mdoc\u001b[0m\u001b[1;33m.\u001b[0m\u001b[0mfind_all\u001b[0m\u001b[1;33m(\u001b[0m\u001b[1;34m\"span\"\u001b[0m\u001b[1;33m,\u001b[0m \u001b[1;33m{\u001b[0m\u001b[1;34m\"class\"\u001b[0m \u001b[1;33m:\u001b[0m \u001b[1;34m'companyName'\u001b[0m\u001b[1;33m}\u001b[0m\u001b[1;33m)\u001b[0m\u001b[1;33m\u001b[0m\u001b[1;33m\u001b[0m\u001b[0m\n\u001b[1;32m---> 39\u001b[1;33m     \u001b[0mcompany_list\u001b[0m\u001b[1;33m.\u001b[0m\u001b[0mappend\u001b[0m\u001b[1;33m(\u001b[0m\u001b[0mcompany\u001b[0m\u001b[1;33m[\u001b[0m\u001b[1;36m0\u001b[0m\u001b[1;33m]\u001b[0m\u001b[1;33m.\u001b[0m\u001b[0mtext\u001b[0m\u001b[1;33m)\u001b[0m\u001b[1;33m\u001b[0m\u001b[1;33m\u001b[0m\u001b[0m\n\u001b[0m\u001b[0;32m     40\u001b[0m \u001b[1;33m\u001b[0m\u001b[0m\n\u001b[0;32m     41\u001b[0m     \u001b[1;31m#get location\u001b[0m\u001b[1;33m\u001b[0m\u001b[1;33m\u001b[0m\u001b[1;33m\u001b[0m\u001b[0m\n",
      "\u001b[1;31mIndexError\u001b[0m: list index out of range"
     ]
    }
   ],
   "source": [
    "salary_list = []\n",
    "contract_type_list = []\n",
    "company_list = []\n",
    "location_list = []\n",
    "title_list = []\n",
    " \n",
    "\n",
    "# loop through each job\n",
    "for job in job_cards:\n",
    "    element = job.get_attribute('outerHTML')\n",
    "    doc = bs(element, \"html.parser\")\n",
    "    \n",
    "    #check if salary was provided\n",
    "    salary_checker = doc.find_all(\"div\", {\"class\" : 'metadata salary-snippet-container'})\n",
    "    \n",
    "    try:\n",
    "        '''Check if salary is given and extract, if not extract just contract type'''\n",
    "        salary = salary_checker[0].text\n",
    "        \n",
    "        salary_contract_type = doc.find_all(\"div\", {\"class\" : 'attribute_snippet'})\n",
    "        \n",
    "        salary = salary_contract_type[0].text\n",
    "        contract_type = salary_contract_type[1].text\n",
    "    except:\n",
    "        salary = 'Null'\n",
    "        contract_type = doc.find_all(\"div\", {\"class\" : 'attribute_snippet'})\n",
    "        try:\n",
    "            contract_type = contract_type[0].text\n",
    "        except:\n",
    "            contract_type = 'Null'\n",
    "        \n",
    "    \n",
    "    #append salary and contact type\n",
    "    salary_list.append(salary)\n",
    "    contract_type_list.append(contract_type)\n",
    "    \n",
    "    #get company name\n",
    "    try:\n",
    "        company = doc.find_all(\"span\", {\"class\" : 'companyName'})\n",
    "        company_list.append(company[0].text)\n",
    "    except:\n",
    "        company_list.append(''company[0].text'')\n",
    "    \n",
    "    #get location \n",
    "    location = doc.find_all(\"div\", {\"class\" : 'companyLocation'})\n",
    "    location_list.append(location[0].text)\n",
    "    \n",
    "    #get job title\n",
    "    a_tag = doc.find_all(\"a\")\n",
    "    title = a_tag[0].text\n",
    "    title_list.append(title)\n",
    "    \n",
    "    "
   ]
  },
  {
   "cell_type": "code",
   "execution_count": null,
   "metadata": {},
   "outputs": [],
   "source": [
    "Data_list = {\"Title\" : title_list,  \n",
    "            \"Salary\" : salary_list,\n",
    "            \"Contract Type\" : contract_type_list,\n",
    "             \"Company Name\" : company_list,\n",
    "            \"Location\" : location_list}"
   ]
  },
  {
   "cell_type": "code",
   "execution_count": null,
   "metadata": {},
   "outputs": [],
   "source": [
    "dataset = pd.DataFrame(Data_list)"
   ]
  },
  {
   "cell_type": "code",
   "execution_count": null,
   "metadata": {},
   "outputs": [],
   "source": [
    "dataset"
   ]
  },
  {
   "cell_type": "markdown",
   "metadata": {},
   "source": [
    "================================"
   ]
  },
  {
   "cell_type": "code",
   "execution_count": 302,
   "metadata": {},
   "outputs": [],
   "source": [
    "next_button = driver.find_element(By.XPATH, '//*[@id=\"jobsearch-JapanPage\"]/div/div/div[5]/div[1]/nav/div[7]/a')"
   ]
  },
  {
   "cell_type": "code",
   "execution_count": 303,
   "metadata": {},
   "outputs": [],
   "source": [
    "next_button.click()"
   ]
  },
  {
   "cell_type": "code",
   "execution_count": null,
   "metadata": {},
   "outputs": [],
   "source": []
  }
 ],
 "metadata": {
  "kernelspec": {
   "display_name": "Python 3",
   "language": "python",
   "name": "python3"
  },
  "language_info": {
   "codemirror_mode": {
    "name": "ipython",
    "version": 3
   },
   "file_extension": ".py",
   "mimetype": "text/x-python",
   "name": "python",
   "nbconvert_exporter": "python",
   "pygments_lexer": "ipython3",
   "version": "3.7.6"
  }
 },
 "nbformat": 4,
 "nbformat_minor": 4
}
