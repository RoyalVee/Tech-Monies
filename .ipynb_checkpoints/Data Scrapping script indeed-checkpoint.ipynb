{
 "cells": [
  {
   "cell_type": "markdown",
   "metadata": {},
   "source": [
    "# Data Scrapping script for data collection from Indeed"
   ]
  },
  {
   "cell_type": "markdown",
   "metadata": {},
   "source": [
    "Introduction:\n",
    "This script aims at scrapping data from indeed. Data collected will be used in for training the Tech job salary prediction model."
   ]
  },
  {
   "cell_type": "markdown",
   "metadata": {},
   "source": [
    ">>Hint:\n",
    "    To run this script ensure your already have Selenium and Chrome driver installed. installation guide can be found [here](https://selenium-python.readthedocs.io/installation.html)"
   ]
  },
  {
   "cell_type": "code",
   "execution_count": 280,
   "metadata": {},
   "outputs": [
    {
     "name": "stderr",
     "output_type": "stream",
     "text": [
      "C:\\ProgramData\\Anaconda3\\lib\\site-packages\\ipykernel_launcher.py:13: DeprecationWarning: executable_path has been deprecated, please pass in a Service object\n",
      "  del sys.path[0]\n"
     ]
    }
   ],
   "source": [
    "#Import the packages \n",
    "from selenium.webdriver.common.by import By\n",
    "from selenium import webdriver\n",
    "from selenium.webdriver.common.keys import Keys\n",
    "from selenium.webdriver.support.ui import WebDriverWait\n",
    "from selenium.webdriver.support import expected_conditions as EC\n",
    "from bs4 import BeautifulSoup as bs\n",
    "import pandas as pd\n",
    "\n",
    "\n",
    "#specify driver path\n",
    "DRIVER_PATH = 'C:\\Program Files\\Google\\Chrome\\Application\\chromedriver.exe' # ensure to change this to your chrome driver location \n",
    "driver = webdriver.Chrome(executable_path = DRIVER_PATH)"
   ]
  },
  {
   "cell_type": "code",
   "execution_count": 281,
   "metadata": {},
   "outputs": [],
   "source": [
    "# open page\n",
    "driver.get('https://indeed.com')"
   ]
  },
  {
   "cell_type": "code",
   "execution_count": 282,
   "metadata": {},
   "outputs": [],
   "source": [
    "#Find the what element \n",
    "what_search_box = driver.find_element(By.XPATH, '//*[@id=\"text-input-what\"]')\n",
    "#search_button = driver.find_element(by=By.ID, value=\"search_button_homepage\")"
   ]
  },
  {
   "cell_type": "code",
   "execution_count": 283,
   "metadata": {},
   "outputs": [],
   "source": [
    "# pass job title in the what search\n",
    "what_search_box.send_keys(\"Data Analyst\")"
   ]
  },
  {
   "cell_type": "code",
   "execution_count": 284,
   "metadata": {},
   "outputs": [],
   "source": [
    "#Find the where element \n",
    "where_search_box = driver.find_element(By.XPATH, '//*[@id=\"text-input-where\"]')"
   ]
  },
  {
   "cell_type": "code",
   "execution_count": 285,
   "metadata": {},
   "outputs": [],
   "source": [
    "# pass location\n",
    "where_search_box.send_keys(\"Nigeria\")"
   ]
  },
  {
   "cell_type": "code",
   "execution_count": 286,
   "metadata": {},
   "outputs": [],
   "source": [
    "#Click on the search\n",
    "search_button = driver.find_element(By.XPATH, '//*[@id=\"jobsearch\"]/button')"
   ]
  },
  {
   "cell_type": "code",
   "execution_count": 287,
   "metadata": {},
   "outputs": [],
   "source": [
    "search_button.click()"
   ]
  },
  {
   "cell_type": "code",
   "execution_count": 288,
   "metadata": {},
   "outputs": [],
   "source": [
    "# get the listed job search returned \n",
    "job_cards = driver.find_elements(By.CLASS_NAME, 'resultContent')"
   ]
  },
  {
   "cell_type": "code",
   "execution_count": 289,
   "metadata": {},
   "outputs": [],
   "source": [
    "# get the number of jobs returned \n",
    "number_returned = len(job_cards)"
   ]
  },
  {
   "cell_type": "code",
   "execution_count": 290,
   "metadata": {},
   "outputs": [],
   "source": [
    "salary_list = []\n",
    "contract_type_list = []\n",
    "company_list = []\n",
    "location_list = []\n",
    "title_list = []\n",
    " \n",
    "\n",
    "# loop through each job\n",
    "for job in job_cards:\n",
    "    element = job.get_attribute('outerHTML')\n",
    "    doc = bs(element, \"html.parser\")\n",
    "    \n",
    "    #check if salary was provided\n",
    "    salary_checker = doc.find_all(\"div\", {\"class\" : 'metadata salary-snippet-container'})\n",
    "    \n",
    "    try:\n",
    "        '''Check if salary is given and extract, if not extract just contract type'''\n",
    "        salary = salary_checker[0].text\n",
    "        \n",
    "        salary_contract_type = doc.find_all(\"div\", {\"class\" : 'attribute_snippet'})\n",
    "        \n",
    "        salary = salary_contract_type[0].text\n",
    "        contract_type = salary_contract_type[1].text\n",
    "    except:\n",
    "        salary = 'Null'\n",
    "        contract_type = doc.find_all(\"div\", {\"class\" : 'attribute_snippet'})\n",
    "        try:\n",
    "            contract_type = contract_type[0].text\n",
    "        except:\n",
    "            contract_type = 'Null'\n",
    "        \n",
    "    \n",
    "    #append salary and contact type\n",
    "    salary_list.append(salary)\n",
    "    contract_type_list.append(contract_type)\n",
    "    \n",
    "    #get company name\n",
    "    company = doc.find_all(\"span\", {\"class\" : 'companyName'})\n",
    "    company_list.append(company[0].text)\n",
    "    \n",
    "    #get location \n",
    "    location = doc.find_all(\"div\", {\"class\" : 'companyLocation'})\n",
    "    location_list.append(location[0].text)\n",
    "    \n",
    "    #get job title\n",
    "    a_tag = doc.find_all(\"a\")\n",
    "    title = a_tag[0].text\n",
    "    title_list.append(title)\n",
    "    \n",
    "    "
   ]
  },
  {
   "cell_type": "code",
   "execution_count": 291,
   "metadata": {},
   "outputs": [
    {
     "data": {
      "text/plain": [
       "['₦300,000 - ₦700,000 a month',\n",
       " '₦80,000 - ₦100,000 a month',\n",
       " 'Null',\n",
       " '₦150,000 - ₦200,000 a month',\n",
       " 'Null',\n",
       " 'Null',\n",
       " 'Null',\n",
       " 'Null',\n",
       " '₦150,000 - ₦200,000 a month',\n",
       " 'Null',\n",
       " 'Null',\n",
       " 'Null',\n",
       " 'Null',\n",
       " '₦100,000 - ₦110,000 a month',\n",
       " '₦110,000 a month']"
      ]
     },
     "execution_count": 291,
     "metadata": {},
     "output_type": "execute_result"
    }
   ],
   "source": [
    "salary_list"
   ]
  },
  {
   "cell_type": "code",
   "execution_count": 292,
   "metadata": {},
   "outputs": [
    {
     "data": {
      "text/plain": [
       "['Full-time',\n",
       " 'Full-time +1',\n",
       " 'Full-time',\n",
       " 'Full-time',\n",
       " 'Contract',\n",
       " 'Contract',\n",
       " 'Full-time',\n",
       " 'Internship',\n",
       " 'Full-time',\n",
       " 'Null',\n",
       " 'Full-time',\n",
       " 'Null',\n",
       " 'Full-time',\n",
       " 'Full-time',\n",
       " 'Full-time']"
      ]
     },
     "execution_count": 292,
     "metadata": {},
     "output_type": "execute_result"
    }
   ],
   "source": [
    "contract_type_list"
   ]
  },
  {
   "cell_type": "code",
   "execution_count": 293,
   "metadata": {},
   "outputs": [
    {
     "data": {
      "text/plain": [
       "['Data Analyst',\n",
       " 'PROCESS ANALYST INTERN',\n",
       " 'Data Analyst',\n",
       " 'POLICY AND RESEARCH ANALYST',\n",
       " 'Data Analyst Recruitment at Techie Planet Limited',\n",
       " 'Data Analyst',\n",
       " 'Operations Analyst',\n",
       " 'Data Analyst (NYSC)',\n",
       " 'Sales Analyst',\n",
       " 'Global Data & Insights Fellow (Data Analysis & Visualization...',\n",
       " 'Analyst (Generalist)',\n",
       " 'Data Analyst – Nigeria IHP –Jega',\n",
       " 'Research Associate',\n",
       " 'BI Analyst',\n",
       " 'Internal Business Analyst']"
      ]
     },
     "execution_count": 293,
     "metadata": {},
     "output_type": "execute_result"
    }
   ],
   "source": [
    "title_list"
   ]
  },
  {
   "cell_type": "code",
   "execution_count": 294,
   "metadata": {},
   "outputs": [],
   "source": [
    "Data_list = {\"Title\" : title_list,  \n",
    "            \"Salary\" : salary_list,\n",
    "            \"Contract Type\" : contract_type_list,\n",
    "             \"Company Name\" : company_list,\n",
    "            \"Location\" : location_list}"
   ]
  },
  {
   "cell_type": "code",
   "execution_count": 295,
   "metadata": {},
   "outputs": [],
   "source": [
    "dataset = pd.DataFrame(Data_list)"
   ]
  },
  {
   "cell_type": "code",
   "execution_count": 296,
   "metadata": {},
   "outputs": [
    {
     "data": {
      "text/html": [
       "<div>\n",
       "<style scoped>\n",
       "    .dataframe tbody tr th:only-of-type {\n",
       "        vertical-align: middle;\n",
       "    }\n",
       "\n",
       "    .dataframe tbody tr th {\n",
       "        vertical-align: top;\n",
       "    }\n",
       "\n",
       "    .dataframe thead th {\n",
       "        text-align: right;\n",
       "    }\n",
       "</style>\n",
       "<table border=\"1\" class=\"dataframe\">\n",
       "  <thead>\n",
       "    <tr style=\"text-align: right;\">\n",
       "      <th></th>\n",
       "      <th>Title</th>\n",
       "      <th>Salary</th>\n",
       "      <th>Contract Type</th>\n",
       "      <th>Company Name</th>\n",
       "      <th>Location</th>\n",
       "    </tr>\n",
       "  </thead>\n",
       "  <tbody>\n",
       "    <tr>\n",
       "      <th>0</th>\n",
       "      <td>Data Analyst</td>\n",
       "      <td>₦300,000 - ₦700,000 a month</td>\n",
       "      <td>Full-time</td>\n",
       "      <td>Connected Analytics Limited</td>\n",
       "      <td>Lagos</td>\n",
       "    </tr>\n",
       "    <tr>\n",
       "      <th>1</th>\n",
       "      <td>PROCESS ANALYST INTERN</td>\n",
       "      <td>₦80,000 - ₦100,000 a month</td>\n",
       "      <td>Full-time +1</td>\n",
       "      <td>LEITUNG GATE LIMITED</td>\n",
       "      <td>Lagos</td>\n",
       "    </tr>\n",
       "    <tr>\n",
       "      <th>2</th>\n",
       "      <td>Data Analyst</td>\n",
       "      <td>Null</td>\n",
       "      <td>Full-time</td>\n",
       "      <td>GVA Partners</td>\n",
       "      <td>Lagos</td>\n",
       "    </tr>\n",
       "    <tr>\n",
       "      <th>3</th>\n",
       "      <td>POLICY AND RESEARCH ANALYST</td>\n",
       "      <td>₦150,000 - ₦200,000 a month</td>\n",
       "      <td>Full-time</td>\n",
       "      <td>MEG Consults</td>\n",
       "      <td>Abuja</td>\n",
       "    </tr>\n",
       "    <tr>\n",
       "      <th>4</th>\n",
       "      <td>Data Analyst Recruitment at Techie Planet Limited</td>\n",
       "      <td>Null</td>\n",
       "      <td>Contract</td>\n",
       "      <td>Techie Planet Limited</td>\n",
       "      <td>Lagos</td>\n",
       "    </tr>\n",
       "    <tr>\n",
       "      <th>5</th>\n",
       "      <td>Data Analyst</td>\n",
       "      <td>Null</td>\n",
       "      <td>Contract</td>\n",
       "      <td>MEDA</td>\n",
       "      <td>Bauchi</td>\n",
       "    </tr>\n",
       "    <tr>\n",
       "      <th>6</th>\n",
       "      <td>Operations Analyst</td>\n",
       "      <td>Null</td>\n",
       "      <td>Full-time</td>\n",
       "      <td>Sabi</td>\n",
       "      <td>Lagos</td>\n",
       "    </tr>\n",
       "    <tr>\n",
       "      <th>7</th>\n",
       "      <td>Data Analyst (NYSC)</td>\n",
       "      <td>Null</td>\n",
       "      <td>Internship</td>\n",
       "      <td>Eat N Go Limited</td>\n",
       "      <td>Lagos</td>\n",
       "    </tr>\n",
       "    <tr>\n",
       "      <th>8</th>\n",
       "      <td>Sales Analyst</td>\n",
       "      <td>₦150,000 - ₦200,000 a month</td>\n",
       "      <td>Full-time</td>\n",
       "      <td>salvayservices</td>\n",
       "      <td>Lagos</td>\n",
       "    </tr>\n",
       "    <tr>\n",
       "      <th>9</th>\n",
       "      <td>Global Data &amp; Insights Fellow (Data Analysis &amp;...</td>\n",
       "      <td>Null</td>\n",
       "      <td>Null</td>\n",
       "      <td>Wikimedia Foundation</td>\n",
       "      <td>Lagos</td>\n",
       "    </tr>\n",
       "    <tr>\n",
       "      <th>10</th>\n",
       "      <td>Analyst (Generalist)</td>\n",
       "      <td>Null</td>\n",
       "      <td>Full-time</td>\n",
       "      <td>The People Practice</td>\n",
       "      <td>Lagos</td>\n",
       "    </tr>\n",
       "    <tr>\n",
       "      <th>11</th>\n",
       "      <td>Data Analyst – Nigeria IHP –Jega</td>\n",
       "      <td>Null</td>\n",
       "      <td>Null</td>\n",
       "      <td>Palladium Group, Inc.</td>\n",
       "      <td>Nigeria</td>\n",
       "    </tr>\n",
       "    <tr>\n",
       "      <th>12</th>\n",
       "      <td>Research Associate</td>\n",
       "      <td>Null</td>\n",
       "      <td>Full-time</td>\n",
       "      <td>Co-creation Hub</td>\n",
       "      <td>Lagos</td>\n",
       "    </tr>\n",
       "    <tr>\n",
       "      <th>13</th>\n",
       "      <td>BI Analyst</td>\n",
       "      <td>₦100,000 - ₦110,000 a month</td>\n",
       "      <td>Full-time</td>\n",
       "      <td>JSK Consulting Group</td>\n",
       "      <td>Lagos</td>\n",
       "    </tr>\n",
       "    <tr>\n",
       "      <th>14</th>\n",
       "      <td>Internal Business Analyst</td>\n",
       "      <td>₦110,000 a month</td>\n",
       "      <td>Full-time</td>\n",
       "      <td>Urban concept</td>\n",
       "      <td>Kaduna</td>\n",
       "    </tr>\n",
       "  </tbody>\n",
       "</table>\n",
       "</div>"
      ],
      "text/plain": [
       "                                                Title  \\\n",
       "0                                        Data Analyst   \n",
       "1                              PROCESS ANALYST INTERN   \n",
       "2                                        Data Analyst   \n",
       "3                         POLICY AND RESEARCH ANALYST   \n",
       "4   Data Analyst Recruitment at Techie Planet Limited   \n",
       "5                                        Data Analyst   \n",
       "6                                  Operations Analyst   \n",
       "7                                 Data Analyst (NYSC)   \n",
       "8                                       Sales Analyst   \n",
       "9   Global Data & Insights Fellow (Data Analysis &...   \n",
       "10                               Analyst (Generalist)   \n",
       "11                   Data Analyst – Nigeria IHP –Jega   \n",
       "12                                 Research Associate   \n",
       "13                                         BI Analyst   \n",
       "14                          Internal Business Analyst   \n",
       "\n",
       "                         Salary Contract Type                 Company Name  \\\n",
       "0   ₦300,000 - ₦700,000 a month     Full-time  Connected Analytics Limited   \n",
       "1    ₦80,000 - ₦100,000 a month  Full-time +1         LEITUNG GATE LIMITED   \n",
       "2                          Null     Full-time                 GVA Partners   \n",
       "3   ₦150,000 - ₦200,000 a month     Full-time                 MEG Consults   \n",
       "4                          Null      Contract        Techie Planet Limited   \n",
       "5                          Null      Contract                         MEDA   \n",
       "6                          Null     Full-time                         Sabi   \n",
       "7                          Null    Internship             Eat N Go Limited   \n",
       "8   ₦150,000 - ₦200,000 a month     Full-time               salvayservices   \n",
       "9                          Null          Null         Wikimedia Foundation   \n",
       "10                         Null     Full-time          The People Practice   \n",
       "11                         Null          Null        Palladium Group, Inc.   \n",
       "12                         Null     Full-time              Co-creation Hub   \n",
       "13  ₦100,000 - ₦110,000 a month     Full-time         JSK Consulting Group   \n",
       "14             ₦110,000 a month     Full-time                Urban concept   \n",
       "\n",
       "   Location  \n",
       "0     Lagos  \n",
       "1     Lagos  \n",
       "2     Lagos  \n",
       "3     Abuja  \n",
       "4     Lagos  \n",
       "5    Bauchi  \n",
       "6     Lagos  \n",
       "7     Lagos  \n",
       "8     Lagos  \n",
       "9     Lagos  \n",
       "10    Lagos  \n",
       "11  Nigeria  \n",
       "12    Lagos  \n",
       "13    Lagos  \n",
       "14   Kaduna  "
      ]
     },
     "execution_count": 296,
     "metadata": {},
     "output_type": "execute_result"
    }
   ],
   "source": [
    "dataset"
   ]
  },
  {
   "cell_type": "code",
   "execution_count": null,
   "metadata": {},
   "outputs": [],
   "source": []
  }
 ],
 "metadata": {
  "kernelspec": {
   "display_name": "Python 3",
   "language": "python",
   "name": "python3"
  },
  "language_info": {
   "codemirror_mode": {
    "name": "ipython",
    "version": 3
   },
   "file_extension": ".py",
   "mimetype": "text/x-python",
   "name": "python",
   "nbconvert_exporter": "python",
   "pygments_lexer": "ipython3",
   "version": "3.7.6"
  }
 },
 "nbformat": 4,
 "nbformat_minor": 4
}
